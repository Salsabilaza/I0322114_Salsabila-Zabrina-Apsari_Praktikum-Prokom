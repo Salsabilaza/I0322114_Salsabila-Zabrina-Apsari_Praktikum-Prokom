{
 "cells": [
  {
   "cell_type": "code",
   "execution_count": null,
   "metadata": {},
   "outputs": [],
   "source": [
    "print(input(\"Nama: \"))\n",
    "print(input(\"NIM: \"))\n",
    "print(input(\"Kelas: \"))"
   ]
  },
  {
   "attachments": {},
   "cell_type": "markdown",
   "metadata": {},
   "source": [
    "## 1."
   ]
  },
  {
   "attachments": {},
   "cell_type": "markdown",
   "metadata": {},
   "source": [
    "Buatlah program yang menampilkan salam “Selamat Pagi” dari berbagai negara {Inggris, Perancis, Italia, Spanyol, Jepang, Korea} dengan dua input dari user yaitu bahasa dan diikuti nama user.<br>\n",
    "<br>Ex : \n",
    "<br>\"Ohayou, Onii Chan\"\n",
    "> *note: Kerjakan soal ini dengan percabangan*"
   ]
  },
  {
   "cell_type": "code",
   "execution_count": 3,
   "metadata": {},
   "outputs": [
    {
     "name": "stdout",
     "output_type": "stream",
     "text": [
      "negara tidak terdapat dalam list\n"
     ]
    }
   ],
   "source": [
    "# Kerjakan soal nomor 1 disini\n",
    "a = input('Pilih bahasa negara untuk ucapan selamat pagi : ')\n",
    "b = input('Masukkan nama kalian : ')\n",
    "c = ['inggris', 'perancis', 'italia', 'spanyol', 'jepang', 'korea']\n",
    "d = ['good morning', 'bonjour', 'buongiorno', 'buenos días', 'ohayou', 'joheun achimieyo']\n",
    "\n",
    "if a == c[0]:\n",
    "    print(d[0], b)\n",
    "elif a == c[1]:\n",
    "    print(d[1], b)\n",
    "elif a == c[2]:\n",
    "    print(d[2], b)\n",
    "elif a == c[3]:\n",
    "    print(d[3], b)\n",
    "elif a == c[4]:\n",
    "    print(d[4], b)\n",
    "elif a == c[5]:\n",
    "    print(d[5], b)\n",
    "else :\n",
    "    print('negara tidak terdapat dalam list')"
   ]
  },
  {
   "attachments": {},
   "cell_type": "markdown",
   "metadata": {},
   "source": [
    "## 2."
   ]
  },
  {
   "attachments": {},
   "cell_type": "markdown",
   "metadata": {},
   "source": [
    "Buatlah program perhitungan umur dengan menggunakan input user yaitu tahun lahir dari user.<br>\n",
    "<br>Output yang dihasilkan adalah sebagai berikut:\n",
    "<br>\"Apakah anda berasal dari masa depan?\"\n",
    "<br>\"Anda barusaja lahir\"\n",
    "<br>\"Umur Anda adalah xx tahun\"\n",
    "> *note: Kerjakan soal ini dengan percabangan*"
   ]
  },
  {
   "cell_type": "code",
   "execution_count": 8,
   "metadata": {},
   "outputs": [
    {
     "name": "stdout",
     "output_type": "stream",
     "text": [
      "Umur anda adalah 19 tahun\n"
     ]
    }
   ],
   "source": [
    "# Kerjakan soal nomor 2 disini\n",
    "x = int(input('Masukkan tahun kelahiran anda : '))\n",
    "y = 2023 #tahun sekarang\n",
    "z = y-x\n",
    "\n",
    "if x > y:\n",
    "    print('Apakah anda berasal dari masa depan?')\n",
    "elif x == y:\n",
    "    print('Anda baru saja lahir')\n",
    "else :\n",
    "    print(f'Umur anda adalah {z} tahun')"
   ]
  }
 ],
 "metadata": {
  "kernelspec": {
   "display_name": "Python 3",
   "language": "python",
   "name": "python3"
  },
  "language_info": {
   "codemirror_mode": {
    "name": "ipython",
    "version": 3
   },
   "file_extension": ".py",
   "mimetype": "text/x-python",
   "name": "python",
   "nbconvert_exporter": "python",
   "pygments_lexer": "ipython3",
   "version": "3.11.2"
  },
  "orig_nbformat": 4
 },
 "nbformat": 4,
 "nbformat_minor": 2
}
