{
 "cells": [
  {
   "attachments": {},
   "cell_type": "markdown",
   "metadata": {},
   "source": [
    "1. Buatlah program pemanggilan angka secara descending menggunakan pengulangan dari angka 50 hingga 0!"
   ]
  },
  {
   "cell_type": "code",
   "execution_count": 12,
   "metadata": {},
   "outputs": [
    {
     "name": "stdout",
     "output_type": "stream",
     "text": [
      "01234567891011121314151617181920212223242526272829303132333435363738394041424344454647484950\n",
      "012345678910111213141516171819202122232425262728293031323334353637383940414243444546474849\n",
      "0123456789101112131415161718192021222324252627282930313233343536373839404142434445464748\n",
      "01234567891011121314151617181920212223242526272829303132333435363738394041424344454647\n",
      "012345678910111213141516171819202122232425262728293031323334353637383940414243444546\n",
      "0123456789101112131415161718192021222324252627282930313233343536373839404142434445\n",
      "01234567891011121314151617181920212223242526272829303132333435363738394041424344\n",
      "012345678910111213141516171819202122232425262728293031323334353637383940414243\n",
      "0123456789101112131415161718192021222324252627282930313233343536373839404142\n",
      "01234567891011121314151617181920212223242526272829303132333435363738394041\n",
      "012345678910111213141516171819202122232425262728293031323334353637383940\n",
      "0123456789101112131415161718192021222324252627282930313233343536373839\n",
      "01234567891011121314151617181920212223242526272829303132333435363738\n",
      "012345678910111213141516171819202122232425262728293031323334353637\n",
      "0123456789101112131415161718192021222324252627282930313233343536\n",
      "01234567891011121314151617181920212223242526272829303132333435\n",
      "012345678910111213141516171819202122232425262728293031323334\n",
      "0123456789101112131415161718192021222324252627282930313233\n",
      "01234567891011121314151617181920212223242526272829303132\n",
      "012345678910111213141516171819202122232425262728293031\n",
      "0123456789101112131415161718192021222324252627282930\n",
      "01234567891011121314151617181920212223242526272829\n",
      "012345678910111213141516171819202122232425262728\n",
      "0123456789101112131415161718192021222324252627\n",
      "01234567891011121314151617181920212223242526\n",
      "012345678910111213141516171819202122232425\n",
      "0123456789101112131415161718192021222324\n",
      "01234567891011121314151617181920212223\n",
      "012345678910111213141516171819202122\n",
      "0123456789101112131415161718192021\n",
      "01234567891011121314151617181920\n",
      "012345678910111213141516171819\n",
      "0123456789101112131415161718\n",
      "01234567891011121314151617\n",
      "012345678910111213141516\n",
      "0123456789101112131415\n",
      "01234567891011121314\n",
      "012345678910111213\n",
      "0123456789101112\n",
      "01234567891011\n",
      "012345678910\n",
      "0123456789\n",
      "012345678\n",
      "01234567\n",
      "0123456\n",
      "012345\n",
      "01234\n",
      "0123\n",
      "012\n",
      "01\n",
      "0\n"
     ]
    }
   ],
   "source": [
    "# kerjakan nomor 1 di sini\n",
    "no = 50\n",
    "for i in range(0, no+1):\n",
    "    for angka in range(0, no+1):\n",
    "        print(angka, end='')\n",
    "\n",
    "    print()\n",
    "    no-=1"
   ]
  },
  {
   "attachments": {},
   "cell_type": "markdown",
   "metadata": {},
   "source": [
    "2. Buatlah sebuah list yang berisi kota-kota yang ada di indonesia (minimal 10, salah satunya kota asal kalian), kemudian buat pengulangan yang menampilkan isi-isi dalam list tersebut, jika salah satu kota menunjukkan kota asal kalian maka tambahkan output \"kota X adalah kampung halaman saya\" (program tetap lanjut)"
   ]
  },
  {
   "cell_type": "code",
   "execution_count": 11,
   "metadata": {},
   "outputs": [
    {
     "name": "stdout",
     "output_type": "stream",
     "text": [
      "Kudus\n",
      "Pati ,kota Pati adalah kampung halaman saya\n",
      "Demak\n",
      "Semarang\n",
      "Solo\n",
      "Magelang\n",
      "Jogja\n",
      "Purwokerto\n",
      "Klaten\n",
      "Bogor\n"
     ]
    }
   ],
   "source": [
    "# Kerjakan nomor 2 di sini\n",
    "\n",
    "kota = ['Kudus', 'Pati', 'Demak', 'Semarang', 'Solo', 'Magelang', 'Jogja', 'Purwokerto', 'Klaten', 'Bogor']\n",
    "\n",
    "for pilihan in kota:    \n",
    "    if pilihan == kota[1]: \n",
    "     print (pilihan, ',kota Pati adalah kampung halaman saya')\n",
    "\n",
    "    else : \n",
    "     print(pilihan)"
   ]
  },
  {
   "attachments": {},
   "cell_type": "markdown",
   "metadata": {},
   "source": [
    "3. Disajikan list sebagai berikut"
   ]
  },
  {
   "cell_type": "code",
   "execution_count": null,
   "metadata": {},
   "outputs": [],
   "source": [
    "hari = ['senin', 'selasa','rabu','kamis','jumat','sabtu', 'minggu']\n",
    "menu_sahur = ['soto','pecel lele', 'ayam goreng', 'sayur sop', 'rendang','telur balado']"
   ]
  },
  {
   "attachments": {},
   "cell_type": "markdown",
   "metadata": {},
   "source": [
    "Abdul adalah seorang mahasiswa semester 2. Selama satu minggu ia membuat daftar menu sahur yang dia makan selama seminggu yang lalu. dengan catatan hari kamis Abdul ketiduran sehingga dia tidak sahur. Berdasarkan kasus tersebut buatlah program pengulangannya!"
   ]
  },
  {
   "cell_type": "code",
   "execution_count": 33,
   "metadata": {},
   "outputs": [
    {
     "name": "stdout",
     "output_type": "stream",
     "text": [
      "senin : soto\n",
      "selasa : pecel lele\n",
      "rabu : ayam goreng\n",
      "kamis Abdul tidak sahur karena ketiduran\n",
      "jumat : rendang\n",
      "sabtu : telur balado\n"
     ]
    },
    {
     "ename": "IndexError",
     "evalue": "list index out of range",
     "output_type": "error",
     "traceback": [
      "\u001b[1;31m---------------------------------------------------------------------------\u001b[0m",
      "\u001b[1;31mIndexError\u001b[0m                                Traceback (most recent call last)",
      "Cell \u001b[1;32mIn[33], line 9\u001b[0m\n\u001b[0;32m      7\u001b[0m     \u001b[39mprint\u001b[39m(hari[x] , \u001b[39m'\u001b[39m\u001b[39mAbdul tidak sahur karena ketiduran\u001b[39m\u001b[39m'\u001b[39m)\n\u001b[0;32m      8\u001b[0m \u001b[39melse\u001b[39;00m :\n\u001b[1;32m----> 9\u001b[0m     \u001b[39mprint\u001b[39m(hari[x] , \u001b[39m'\u001b[39m\u001b[39m:\u001b[39m\u001b[39m'\u001b[39m, menu_sahur[x])\n",
      "\u001b[1;31mIndexError\u001b[0m: list index out of range"
     ]
    }
   ],
   "source": [
    "# kerjakan nomor 3 di sini\n",
    "hari = ['senin', 'selasa','rabu','kamis','jumat','sabtu', 'minggu']\n",
    "menu_sahur = ['soto','pecel lele', 'ayam goreng', 'sayur sop', 'rendang','telur balado']\n",
    "\n",
    "for x in range(len(hari)) :\n",
    "    if hari[x] == 'kamis' :\n",
    "        print(hari[x] , 'Abdul tidak sahur karena ketiduran')\n",
    "    else :\n",
    "        print(hari[x] , ':', menu_sahur[x])\n",
    "\n"
   ]
  }
 ],
 "metadata": {
  "kernelspec": {
   "display_name": "Python 3",
   "language": "python",
   "name": "python3"
  },
  "language_info": {
   "codemirror_mode": {
    "name": "ipython",
    "version": 3
   },
   "file_extension": ".py",
   "mimetype": "text/x-python",
   "name": "python",
   "nbconvert_exporter": "python",
   "pygments_lexer": "ipython3",
   "version": "3.11.2"
  },
  "orig_nbformat": 4
 },
 "nbformat": 4,
 "nbformat_minor": 2
}
