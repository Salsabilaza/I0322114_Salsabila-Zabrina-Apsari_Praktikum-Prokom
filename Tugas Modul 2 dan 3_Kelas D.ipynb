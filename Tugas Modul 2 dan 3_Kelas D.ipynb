{
 "cells": [
  {
   "cell_type": "code",
   "execution_count": null,
   "metadata": {},
   "outputs": [],
   "source": [
    "print(input(\"Nama: Salsabila Zabrina Apsari\"))\n",
    "print(input(\"NIM: I0322114\"))\n",
    "print(input(\"Kelas: D\"))"
   ]
  },
  {
   "attachments": {},
   "cell_type": "markdown",
   "metadata": {},
   "source": [
    "## 1."
   ]
  },
  {
   "attachments": {},
   "cell_type": "markdown",
   "metadata": {},
   "source": [
    "diketahui dimensi sebuah aquarium tanpa penutup atas sebagai berikut:\n",
    "\n",
    "```python\n",
    "p = 11\n",
    "l = 1.99\n",
    "t = 25.87\n",
    "```\n",
    "buatkan program sederhana untuk menghitung diagonal tiap sisi dan luas permukaan aquarium tersebut tanpa menggunakan module math."
   ]
  },
  {
   "cell_type": "code",
   "execution_count": 39,
   "metadata": {},
   "outputs": [
    {
     "name": "stdout",
     "output_type": "stream",
     "text": [
      "==============================\n",
      "panjang diagonal sisi depan aquarium adalah = 28.11150831954771\n",
      "panjang diagonal sisi samping aquarium adalah = 25.946425572706545\n",
      "panjang diagonal sisi alas aquarium adalah = 11.17855536283647\n",
      "===============================\n",
      "Maka luas permukaan aquarium tanpa tutup adalah = 642.5113\n"
     ]
    }
   ],
   "source": [
    "p = 11\n",
    "l = 1.99\n",
    "t = 25.87\n",
    "\n",
    "#menghitung diagonal tiap sisi\n",
    "x = \"diagonal sisi depan aquarium\"\n",
    "y = \"diagonal sisi samping aquarium\"\n",
    "z = \"diagonal sisi alas aquarium\"\n",
    "\n",
    "print(\"==============================\")\n",
    "x = float((p**2+t**2)**0.5)\n",
    "y = float((l**2+t**2)**0.5)\n",
    "z = float((p**2+l**2)**0.5)\n",
    "print(\"panjang diagonal sisi depan aquarium adalah =\", x)\n",
    "print(\"panjang diagonal sisi samping aquarium adalah =\", y)\n",
    "print(\"panjang diagonal sisi alas aquarium adalah =\", z)\n",
    "\n",
    "print(\"===============================\")\n",
    "#menghitung luas permukaan aquarium\n",
    "a = \"luas permukaan aquarium\"\n",
    "\n",
    "a = float((p*l + 2*(p*t)+(l*t)))\n",
    "print(\"Maka luas permukaan aquarium tanpa tutup adalah =\", a)\n",
    "\n",
    "\n"
   ]
  },
  {
   "attachments": {},
   "cell_type": "markdown",
   "metadata": {},
   "source": [
    "## 2."
   ]
  },
  {
   "attachments": {},
   "cell_type": "markdown",
   "metadata": {},
   "source": [
    "diberikan data nilai mahasiswa sebagai berikut:"
   ]
  },
  {
   "cell_type": "code",
   "execution_count": 49,
   "metadata": {},
   "outputs": [
    {
     "name": "stdout",
     "output_type": "stream",
     "text": [
      "=======================\n",
      "rata-rata keseluruhan nilai adalah =  80.0\n",
      "nilai tertinggi dari keseluruhan nilai dalah 90\n",
      "mahasiswa yang mendapatkan nilai tertinggi adalah Cobb\n",
      "nilai terendah dari keseluruhan nilai adalah 70\n",
      "mahasiswa yang mendapatkan nilai terendah adalah Ariadne\n"
     ]
    }
   ],
   "source": [
    "nilai = {\n",
    "    'Frank': 80,\n",
    "    'Abagnale': 75,\n",
    "    'Cobb': 90,\n",
    "    'Andy Dufresne': 85,\n",
    "    'Ariadne': 70\n",
    "}\n",
    "#menghitung rata-rata, nilai tertinggi, nilai terendah\n",
    "x = \"rata-rata\"\n",
    "y = \"nilai tertinggi\"\n",
    "z = \"nilai terendah\"\n",
    "\n",
    "a = \"mahasiswa nilai tertinggi\"\n",
    "b = \"mahasiswa nilai terendah\"\n",
    "\n",
    "#rata-rata keseluruhan nilai\n",
    "print(\"=======================\")\n",
    "x = float(sum(nilai.values())/len(nilai.values()))\n",
    "print(\"rata-rata keseluruhan nilai adalah = \", x)\n",
    "\n",
    "#nilai tertinggi\n",
    "y = max(nilai.values())\n",
    "print(\"nilai tertinggi dari keseluruhan nilai dalah\", y)\n",
    "#mahasiswa yang mendapat nilai tertinggi\n",
    "a = max(nilai, key=nilai.get)\n",
    "print(\"mahasiswa yang mendapatkan nilai tertinggi adalah\", a)\n",
    "\n",
    "#nilai terendah\n",
    "z = min(nilai.values())\n",
    "print(\"nilai terendah dari keseluruhan nilai adalah\", z)\n",
    "#mahasiswa yang mendapat nilai terendah\n",
    "b = min(nilai, key=nilai.get)\n",
    "print(\"mahasiswa yang mendapatkan nilai terendah adalah\", b)\n",
    "\n",
    "\n"
   ]
  },
  {
   "attachments": {},
   "cell_type": "markdown",
   "metadata": {},
   "source": [
    "buatlah program sederhana untuk menghitung nilai rata-rata semua mahasiswa dan mencari siapa yang mendapatkan nilai tertinggi dan nilai terendah. \n",
    "> *note: tidak perlu menggunakan loops untuk membuat program nya*"
   ]
  },
  {
   "attachments": {},
   "cell_type": "markdown",
   "metadata": {},
   "source": [
    "## 3. "
   ]
  },
  {
   "attachments": {},
   "cell_type": "markdown",
   "metadata": {},
   "source": [
    "diberikan list aslab sebagai berikut:\n",
    "```python\n",
    "list_aslab = [\n",
    "    {\"nama\": \"Berlian Safri Prakoso\", \"nim\": \"I0320017\", \"kontak\": \"0858XXXXXXXX\"},\n",
    "    {\"nama\": \"Halidya Siti Hanifah\", \"nim\": \"I0320044\", \"kontak\": \"0878XXXXXXXX\"},\n",
    "    {\"nama\": \"Nurki Putra Mahardika\", \"nim\": \"I0320076\", \"kontak\": \"0877XXXXXXXX\"},\n",
    "    {\"nama\": \"Aji Manarul Aziz\", \"nim\": \"I0320119\", \"kontak\": \"0812XXXXXXXX\"},\n",
    "    {\"nama\": \"Alica Ayu Fitriani\", \"nim\": \"I0320121\", \"kontak\": \"0896XXXXXXXX\"},\n",
    "    {\"nama\": \"Dendy Halim Kusuma\", \"nim\": \"I0320125\", \"kontak\": \"0822XXXXXXXX\"}\n",
    "]\n",
    "```\n",
    "* **A** Tuliskan kode untuk mengakses informasi tentang \"nama\" dari semua aslab mulai dari index 1 sampai 5\n",
    "* **B** Tambahkan informasi berikut pada data aslab:\n",
    "```python\n",
    "    surel = [\"berlian@student.uns.ac.id\",\n",
    "          \"halidya@student.uns.ac.id\",\n",
    "          \"nurki@student.uns.ac.id\",\n",
    "          \"manarul@student.uns.ac.id\",\n",
    "          \"alica@student.uns.ac.id\",\n",
    "          \"dendy@student.uns.ac.id\"]\n",
    "```\n",
    "> *note: kalian hanya boleh menggunakan key-value pair yang disebutkan di dalam teks, tanpa menggunakan informasi tambahan yang diambil pada list yang ada*"
   ]
  },
  {
   "cell_type": "code",
   "execution_count": 52,
   "metadata": {},
   "outputs": [
    {
     "name": "stdout",
     "output_type": "stream",
     "text": [
      "Halidya Siti Hanifah\n",
      "Nurki Putra Mahardika\n",
      "Aji Manarul Aziz\n",
      "Alica Ayu Fitriani\n",
      "Dendy Halim Kusuma\n",
      "=======================\n",
      "{'nama': 'Berlian Safri Prakoso', 'nim': 'I0320017', 'kontak': '0858XXXXXXXX', 'surel': 'berlian@student.uns.ac.id'}\n",
      "{'nama': 'Halidya Siti Hanifah', 'nim': 'I0320044', 'kontak': '0878XXXXXXXX', 'surel': 'halidya@student.uns.ac.id'}\n",
      "{'nama': 'Nurki Putra Mahardika', 'nim': 'I0320076', 'kontak': '0877XXXXXXXX', 'surel': 'nurki@student.uns.ac.id'}\n",
      "{'nama': 'Aji Manarul Aziz', 'nim': 'I0320119', 'kontak': '0812XXXXXXXX', 'surel': 'manarul@student.uns.ac.id'}\n",
      "{'nama': 'Alica Ayu Fitriani', 'nim': 'I0320121', 'kontak': '0896XXXXXXXX', 'surel': 'alica@student.uns.ac.id'}\n",
      "{'nama': 'Dendy Halim Kusuma', 'nim': 'I0320125', 'kontak': '0822XXXXXXXX', 'surel': 'dendy@student.uns.ac.id'}\n"
     ]
    }
   ],
   "source": [
    "list_aslab = [\n",
    "    {\"nama\": \"Berlian Safri Prakoso\", \"nim\": \"I0320017\", \"kontak\": \"0858XXXXXXXX\"},\n",
    "    {\"nama\": \"Halidya Siti Hanifah\", \"nim\": \"I0320044\", \"kontak\": \"0878XXXXXXXX\"},\n",
    "    {\"nama\": \"Nurki Putra Mahardika\", \"nim\": \"I0320076\", \"kontak\": \"0877XXXXXXXX\"},\n",
    "    {\"nama\": \"Aji Manarul Aziz\", \"nim\": \"I0320119\", \"kontak\": \"0812XXXXXXXX\"},\n",
    "    {\"nama\": \"Alica Ayu Fitriani\", \"nim\": \"I0320121\", \"kontak\": \"0896XXXXXXXX\"},\n",
    "    {\"nama\": \"Dendy Halim Kusuma\", \"nim\": \"I0320125\", \"kontak\": \"0822XXXXXXXX\"}\n",
    "]\n",
    "\n",
    "#A Tuliskan kode untuk mengakses informasi tentang \"nama\" dari semua aslab mulai dari index 1 sampai 5\n",
    "for x in range (1,6) :\n",
    "    print(list_aslab[x][\"nama\"])\n",
    "\n",
    "print(\"=======================\")\n",
    "#B Tambahkan informasi berikut pada data aslab:\n",
    "surel = [\"berlian@student.uns.ac.id\",\n",
    "          \"halidya@student.uns.ac.id\",\n",
    "          \"nurki@student.uns.ac.id\",\n",
    "          \"manarul@student.uns.ac.id\",\n",
    "          \"alica@student.uns.ac.id\",\n",
    "          \"dendy@student.uns.ac.id\"]\n",
    "\n",
    "for x in range (len(list_aslab)) :\n",
    "    list_aslab[x][\"surel\"]= surel[x]\n",
    "for list_aslab_email in list_aslab :\n",
    " print(list_aslab_email)\n"
   ]
  }
 ],
 "metadata": {
  "kernelspec": {
   "display_name": "Python 3",
   "language": "python",
   "name": "python3"
  },
  "language_info": {
   "codemirror_mode": {
    "name": "ipython",
    "version": 3
   },
   "file_extension": ".py",
   "mimetype": "text/x-python",
   "name": "python",
   "nbconvert_exporter": "python",
   "pygments_lexer": "ipython3",
   "version": "3.11.2"
  },
  "orig_nbformat": 4,
  "vscode": {
   "interpreter": {
    "hash": "5addf786bcd861d1ce5006f23111f8cbb206731e5b61b0a5632ba9e0252558a8"
   }
  }
 },
 "nbformat": 4,
 "nbformat_minor": 2
}
